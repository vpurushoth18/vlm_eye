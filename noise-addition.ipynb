{
 "cells": [
  {
   "cell_type": "code",
   "execution_count": 1,
   "metadata": {},
   "outputs": [],
   "source": [
    "import cv2\n",
    "import numpy as np\n",
    "\n",
    "def dark_channel(img, size=15):\n",
    "    min_channel = np.min(img, axis=2)\n",
    "    kernel = cv2.getStructuringElement(cv2.MORPH_RECT, (size, size))\n",
    "    return cv2.erode(min_channel, kernel)\n",
    "\n",
    "def dehaze(img, omega=0.95, size=15):\n",
    "    dark = dark_channel(img, size)\n",
    "    atmospheric_light = np.max(dark)\n",
    "    transmission = 1 - omega * (dark / atmospheric_light)\n",
    "    transmission = np.clip(transmission, 0.1, 1)\n",
    "\n",
    "    transmission = np.expand_dims(transmission, axis=2)\n",
    "    dehazed = (img - atmospheric_light) / transmission + atmospheric_light\n",
    "    return np.clip(dehazed, 0, 255).astype(np.uint8)\n",
    "\n",
    "img = cv2.imread(\"hazy_image.jpg\")\n",
    "dehazed_img = dehaze(img)\n",
    "cv2.imwrite(\"dehazed_image.jpg\", dehazed_img)\n"
   ]
  },
  {
   "cell_type": "code",
   "execution_count": 3,
   "metadata": {},
   "outputs": [
    {
     "name": "stderr",
     "output_type": "stream",
     "text": [
      "100%|██████████| 5/5 [06:09<00:00, 73.85s/it]\n"
     ]
    }
   ],
   "source": [
    "import cv2\n",
    "import numpy as np\n",
    "import os\n",
    "from tqdm import tqdm\n",
    "\n",
    "# Function to apply haze effect\n",
    "def add_haze(image, intensity=0.5):\n",
    "    \"\"\"\n",
    "    Adds haze (fog) to an image.\n",
    "    intensity: Controls haze level (0 = no haze, 1 = maximum haze)\n",
    "    \"\"\"\n",
    "    h, w, c = image.shape\n",
    "    haze_layer = np.full((h, w, c), 255, dtype=np.uint8)  # White haze layer\n",
    "    hazy_image = cv2.addWeighted(image, 1 - intensity, haze_layer, intensity, 0)\n",
    "    return hazy_image\n",
    "\n",
    "# Main function to process images\n",
    "def process_images(input_folder, output_folder, haze_levels=5):\n",
    "    if not os.path.exists(output_folder):\n",
    "        os.makedirs(output_folder)\n",
    "\n",
    "    image_files = [f for f in os.listdir(input_folder) if f.endswith(('.png', '.jpg', '.jpeg'))]\n",
    "\n",
    "    for level in tqdm(range(1, haze_levels + 1)):\n",
    "        haze_intensity = level * 0.2  # Increasing haze level gradually\n",
    "        level_folder = os.path.join(output_folder, f\"Haze_Level_{int(haze_intensity * 100)}\")\n",
    "        os.makedirs(level_folder, exist_ok=True)\n",
    "\n",
    "        for image_file in image_files:\n",
    "            image_path = os.path.join(input_folder, image_file)\n",
    "            image = cv2.imread(image_path)\n",
    "\n",
    "            # Apply haze effect\n",
    "            hazy_image = add_haze(image, intensity=haze_intensity)\n",
    "\n",
    "            output_path = os.path.join(level_folder, image_file)\n",
    "            cv2.imwrite(output_path, hazy_image)\n",
    "\n",
    "# Example Usage\n",
    "input_folder = \"flickr30k_images/flickr30k_images\"  # Folder containing original images\n",
    "output_folder = \"noise/hazy_images\"  # Folder where processed images will be saved\n",
    "\n",
    "process_images(input_folder, output_folder, haze_levels=5)\n"
   ]
  },
  {
   "cell_type": "code",
   "execution_count": null,
   "metadata": {},
   "outputs": [],
   "source": []
  }
 ],
 "metadata": {
  "kernelspec": {
   "display_name": "Python 3",
   "language": "python",
   "name": "python3"
  },
  "language_info": {
   "codemirror_mode": {
    "name": "ipython",
    "version": 3
   },
   "file_extension": ".py",
   "mimetype": "text/x-python",
   "name": "python",
   "nbconvert_exporter": "python",
   "pygments_lexer": "ipython3",
   "version": "3.13.2"
  }
 },
 "nbformat": 4,
 "nbformat_minor": 2
}
